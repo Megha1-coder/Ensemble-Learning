{
  "nbformat": 4,
  "nbformat_minor": 0,
  "metadata": {
    "colab": {
      "provenance": []
    },
    "kernelspec": {
      "name": "python3",
      "display_name": "Python 3"
    },
    "language_info": {
      "name": "python"
    }
  },
  "cells": [
    {
      "cell_type": "markdown",
      "source": [
        "**Theoretical Questions**\n",
        "\n",
        "Q 1: Can we use Bagging for regression problems?\n",
        "A 1: Yes, bagging can be used for regression problems. Corporate Finance Institute states that the bagging technique is useful for both regression and statistical classification. Bagging, also known as Bootstrap Aggregating, improves the stability and accuracy of regression algorithms by combining multiple versions of a prediction model.\n",
        "\n",
        "\n",
        "Q 2: What is the difference between multiple model training and single model training?\n",
        "A 2: The key difference between multiple model training (like ensemble methods) and single model training lies in the number of models used and the way they are trained. Multiple model training involves training and combining predictions from multiple distinct models, while single model training focuses on training a single model for a specific task.\n",
        "\n",
        "\n",
        "Q 3: Explain the concept of feature randomness in Random Forest?\n",
        "A 3: In Random Forest, feature randomness, also known as the random subspace method, ensures that at each split in a decision tree, the algorithm only considers a random subset of features, rather than all available features. This introduction of randomness promotes tree diversity and prevents any single feature from dominating the model's predictions.\n",
        "\n",
        "\n",
        "Q 4: What is OOB (Out-of-Bag) Score?\n",
        "A 4: The Out-of-Bag (OOB) score, also known as the OOB error, is a method used to evaluate the performance of machine learning models, particularly random forests and other bagging algorithms, without requiring a separate validation dataset. It measures the model's prediction accuracy on data points that were not used to train individual decision trees within the ensemble. Essentially, it's a way to estimate how well the model generalizes to new, unseen data.\n",
        "\n",
        "\n",
        "Q 5: How can you measure the importance of features in a Random Forest model?\n",
        "A 5: In Random Forest models, feature importance is typically measured by the mean decrease in impurity (MDI), also known as Gini importance. This method quantifies how much the impurity of a tree's nodes decreases on average when a specific feature is used for splitting. A higher MDI score indicates a more important feature.\n",
        "\n",
        "\n",
        "Q 6: Explain the working principle of a Bagging Classifier?\n",
        "A 6: A Bagging classifier is an ensemble meta-estimator that fits base classifiers each on random subsets of the original dataset and then aggregate their individual predictions (either by voting or by averaging) to form a final prediction.\n",
        "\n",
        "\n",
        "Q 7: How do you evaluate a Bagging Classifier’s performance?\n",
        "A 7: A Bagging Classifier's performance is evaluated using metrics like accuracy, precision, recall, F1-score, and variance reduction, depending on whether the task is classification or regression. For classification, accuracy, precision, recall, and F1-score help assess how well the model correctly classifies data, while variance reduction measures how much the predictions of individual models differ from the ensemble's predictions, notes Number Analytics.\n",
        "\n",
        "\n",
        "Q 8: How does a Bagging Regressor work?\n",
        "A 8: A Bagging regressor is an ensemble meta-estimator that fits base regressors each on random subsets of the original dataset and then aggregate their individual predictions (either by voting or by averaging) to form a final prediction.\n",
        "\n",
        "\n",
        "Q 9: What is the main advantage of ensemble techniques?\n",
        "A 9: The primary advantage of ensemble techniques in machine learning is improved predictive accuracy and robustness. By combining the predictions of multiple models, ensembles can leverage the strengths of each model while mitigating their individual weaknesses, leading to more reliable and accurate predictions.\n",
        "\n",
        "\n",
        "Q 10: What is the main challenge of ensemble methods?\n",
        "A 10: The primary challenge of ensemble methods is balancing computational cost with improved accuracy and interpretability. Ensemble methods involve training multiple models, which can increase computational resources and time. While ensembles often achieve higher accuracy, the complexity of combining multiple models can make them harder to interpret and understand compared to single models. Additionally, there's a risk of overfitting if base models are too complex or if the aggregation method is not carefully chosen.\n",
        "\n",
        "\n",
        "Q 11: Explain the key idea behind ensemble techniques?\n",
        "A 11: Ensemble techniques in machine learning combine the predictions of multiple models (called base learners) to produce a stronger overall model. This approach leverages the strengths of different algorithms and reduces overfitting, leading to more accurate and robust predictions.\n",
        "\n",
        "\n",
        "Q 12: What is a Random Forest Classifier?\n",
        "A 12: A Random Forest Classifier is a machine learning algorithm that uses an ensemble of decision trees to classify data. It builds multiple decision trees on different subsets of the training data and then aggregates their predictions, typically using majority voting, to make a final classification. This ensemble approach helps to improve accuracy and reduce overfitting compared to using a single decision tree.\n",
        "\n",
        "\n",
        "Q 13: What are the main types of ensemble techniques?\n",
        "A 13: The main types of ensemble techniques are Bagging, Boosting, and Stacking. These techniques combine multiple machine learning models to improve accuracy, robustness, and generalization. In addition, Blending and Voting are also important ensemble methods.\n",
        "\n",
        "\n",
        "Q 14: What is ensemble learning in machine learning?\n",
        "A 14: Ensemble learning in machine learning is a technique that combines the predictions of multiple models to improve accuracy and robustness compared to using a single model. It leverages the strengths of diverse algorithms and reduces variance, bias, and overfitting, resulting in more reliable predictions.\n",
        "\n",
        "\n",
        "Q 15: When should we avoid using ensemble methods?\n",
        "A 15: Ensemble methods should be avoided when complexity, computational resources, interpretability, and lack of transparency are paramount, or when the problem is too simple or the data set is too small. Ensemble methods can also be less effective if the base models are too similar, or if there are outliers in regression problems.\n",
        "\n",
        "\n",
        "Q 16: How does Bagging help in reducing overfitting?\n",
        "A 16: Bagging helps reduce overfitting by training multiple models on different subsets of the training data and then averaging their predictions. This averaging process reduces the variance of the ensemble, making it less sensitive to individual noisy training samples and less prone to overfitting. By creating diverse models from different subsets, bagging helps the ensemble generalize better to unseen data.\n",
        "\n",
        "\n",
        "Q 17: Why is Random Forest better than a single Decision Tree?\n",
        "A 17: Random Forests are generally preferred over single Decision Trees because they offer improved performance, reduced overfitting, and greater robustness, particularly in complex datasets. This is achieved by leveraging ensemble learning, where multiple Decision Trees are combined to make a final prediction, resulting in a more accurate and stable model.\n",
        "\n",
        "\n",
        "Q 18: What is the role of bootstrap sampling in Bagging?\n",
        "A 18: In Bagging (Bootstrap Aggregating), bootstrap sampling creates multiple, diverse subsets of the original training data by randomly sampling with replacement. This means each subset contains the same number of samples as the original, but some instances may appear multiple times, while others might be absent. This process allows Bagging to train multiple models on different, yet related, versions of the data, leading to a more robust and accurate ensemble.\n",
        "\n",
        "\n",
        "Q 19: What are some real-world applications of ensemble techniques?\n",
        "A 19: Ensemble techniques, which combine multiple predictive models, find applications across various fields to enhance prediction accuracy and reliability. These techniques are particularly useful in situations where a single model might struggle to capture the complexity of the data or when a diverse range of insights is needed.\n",
        "\n",
        "\n",
        "Q 20: What is the difference between Bagging and Boosting?\n",
        "A 20: Bagging and boosting are both ensemble methods in machine learning that combine multiple models to improve accuracy and stability. Bagging, or Bootstrap Aggregating, trains models independently in parallel, while boosting trains models sequentially, with each model correcting the errors of the previous ones. Bagging is generally better for reducing variance, while boosting is more effective at reducing bias."
      ],
      "metadata": {
        "id": "9Dbs6tz-wKPL"
      }
    },
    {
      "cell_type": "markdown",
      "source": [
        "**Practical Questions**"
      ],
      "metadata": {
        "id": "u9qi68C2zXq6"
      }
    },
    {
      "cell_type": "code",
      "execution_count": 2,
      "metadata": {
        "colab": {
          "base_uri": "https://localhost:8080/"
        },
        "id": "WSNFWpCewDDg",
        "outputId": "1769083d-90d5-4e42-a379-b476bba7d080"
      },
      "outputs": [
        {
          "output_type": "stream",
          "name": "stdout",
          "text": [
            "Model Accuracy: 1.0\n"
          ]
        }
      ],
      "source": [
        "# Q 21: Train a Bagging Classifier using Decision Trees on a sample dataset and print model accuracy2\n",
        "from sklearn.datasets import load_iris\n",
        "from sklearn.model_selection import train_test_split\n",
        "from sklearn.ensemble import BaggingClassifier\n",
        "from sklearn.tree import DecisionTreeClassifier\n",
        "from sklearn.metrics import accuracy_score\n",
        "\n",
        "# Load dataset\n",
        "iris = load_iris()\n",
        "X, y = iris.data, iris.target\n",
        "\n",
        "# Split into training and test sets\n",
        "X_train, X_test, y_train, y_test = train_test_split(X, y, test_size=0.2, random_state=42)\n",
        "\n",
        "# Create a Bagging Classifier with Decision Trees\n",
        "bagging_clf = BaggingClassifier(\n",
        "    estimator=DecisionTreeClassifier(),\n",
        "    n_estimators=50,\n",
        "    random_state=42\n",
        ")\n",
        "\n",
        "# Train the model\n",
        "bagging_clf.fit(X_train, y_train)\n",
        "\n",
        "# Predict on the test set\n",
        "y_pred = bagging_clf.predict(X_test)\n",
        "\n",
        "# Calculate and print accuracy\n",
        "accuracy = accuracy_score(y_test, y_pred)\n",
        "print(\"Model Accuracy:\", accuracy)"
      ]
    },
    {
      "cell_type": "code",
      "source": [
        "# Q 22: Train a Bagging Regressor using Decision Trees and evaluate using Mean Squared Error (MSE)2\n",
        "from sklearn.datasets import make_regression\n",
        "from sklearn.model_selection import train_test_split\n",
        "from sklearn.ensemble import BaggingRegressor\n",
        "from sklearn.tree import DecisionTreeRegressor\n",
        "from sklearn.metrics import mean_squared_error\n",
        "\n",
        "# Generate a sample regression dataset\n",
        "X, y = make_regression(n_samples=1000, n_features=10, noise=0.1, random_state=42)\n",
        "\n",
        "# Split into training and test sets\n",
        "X_train, X_test, y_train, y_test = train_test_split(X, y, test_size=0.2, random_state=42)\n",
        "\n",
        "# Create a Bagging Regressor with Decision Trees\n",
        "bagging_reg = BaggingRegressor(\n",
        "    estimator=DecisionTreeRegressor(),\n",
        "    n_estimators=50,\n",
        "    random_state=42\n",
        ")\n",
        "\n",
        "# Train the model\n",
        "bagging_reg.fit(X_train, y_train)\n",
        "\n",
        "# Predict on the test set\n",
        "y_pred = bagging_reg.predict(X_test)\n",
        "\n",
        "# Calculate and print Mean Squared Error\n",
        "mse = mean_squared_error(y_test, y_pred)\n",
        "print(\"Mean Squared Error (MSE):\", mse)"
      ],
      "metadata": {
        "colab": {
          "base_uri": "https://localhost:8080/"
        },
        "id": "p5XkRUSM0uQw",
        "outputId": "79a71aa0-f674-4669-aa41-6b8c75ffa466"
      },
      "execution_count": 3,
      "outputs": [
        {
          "output_type": "stream",
          "name": "stdout",
          "text": [
            "Mean Squared Error (MSE): 2664.080927647363\n"
          ]
        }
      ]
    },
    {
      "cell_type": "code",
      "source": [
        "# Q 23: Train a Random Forest Classifier on the Breast Cancer dataset and print feature importance scores.\n",
        "\n",
        "from sklearn.datasets import load_breast_cancer\n",
        "from sklearn.model_selection import train_test_split\n",
        "from sklearn.ensemble import RandomForestClassifier\n",
        "\n",
        "# Load Breast Cancer dataset\n",
        "data = load_breast_cancer()\n",
        "X, y = data.data, data.target\n",
        "\n",
        "# Split into training and test sets\n",
        "X_train, X_test, y_train, y_test = train_test_split(X, y, test_size=0.2, random_state=42)\n",
        "\n",
        "# Create and train the Random Forest Classifier\n",
        "rf_clf = RandomForestClassifier(n_estimators=100, random_state=42)\n",
        "rf_clf.fit(X_train, y_train)\n",
        "\n",
        "# Print feature importance scores\n",
        "importance_scores = rf_clf.feature_importances_\n",
        "print(\"Feature Importance Scores:\")\n",
        "for feature, score in zip(data.feature_names, importance_scores):\n",
        "    print(f\"{feature}: {score:.4f}\")\n"
      ],
      "metadata": {
        "colab": {
          "base_uri": "https://localhost:8080/"
        },
        "id": "GNKwBv1h06y5",
        "outputId": "a88b6aca-2c85-4158-b861-ce7df000407d"
      },
      "execution_count": 4,
      "outputs": [
        {
          "output_type": "stream",
          "name": "stdout",
          "text": [
            "Feature Importance Scores:\n",
            "mean radius: 0.0487\n",
            "mean texture: 0.0136\n",
            "mean perimeter: 0.0533\n",
            "mean area: 0.0476\n",
            "mean smoothness: 0.0073\n",
            "mean compactness: 0.0139\n",
            "mean concavity: 0.0680\n",
            "mean concave points: 0.1062\n",
            "mean symmetry: 0.0038\n",
            "mean fractal dimension: 0.0039\n",
            "radius error: 0.0201\n",
            "texture error: 0.0047\n",
            "perimeter error: 0.0113\n",
            "area error: 0.0224\n",
            "smoothness error: 0.0043\n",
            "compactness error: 0.0053\n",
            "concavity error: 0.0094\n",
            "concave points error: 0.0035\n",
            "symmetry error: 0.0040\n",
            "fractal dimension error: 0.0053\n",
            "worst radius: 0.0780\n",
            "worst texture: 0.0217\n",
            "worst perimeter: 0.0671\n",
            "worst area: 0.1539\n",
            "worst smoothness: 0.0106\n",
            "worst compactness: 0.0203\n",
            "worst concavity: 0.0318\n",
            "worst concave points: 0.1447\n",
            "worst symmetry: 0.0101\n",
            "worst fractal dimension: 0.0052\n"
          ]
        }
      ]
    },
    {
      "cell_type": "code",
      "source": [
        "# Q 24: Train a Random Forest Regressor and compare its performance with a single Decision Tree.\n",
        "from sklearn.datasets import make_regression\n",
        "from sklearn.model_selection import train_test_split\n",
        "from sklearn.ensemble import RandomForestRegressor\n",
        "from sklearn.tree import DecisionTreeRegressor\n",
        "from sklearn.metrics import mean_squared_error\n",
        "\n",
        "# Generate a synthetic regression dataset\n",
        "X, y = make_regression(n_samples=1000, n_features=10, noise=0.1, random_state=42)\n",
        "\n",
        "# Split into training and test sets\n",
        "X_train, X_test, y_train, y_test = train_test_split(X, y, test_size=0.2, random_state=42)\n",
        "\n",
        "# Create and train the Random Forest Regressor\n",
        "rf_regressor = RandomForestRegressor(n_estimators=100, random_state=42)\n",
        "rf_regressor.fit(X_train, y_train)\n",
        "\n",
        "# Create and train the Decision Tree Regressor\n",
        "dt_regressor = DecisionTreeRegressor(random_state=42)\n",
        "dt_regressor.fit(X_train, y_train)\n",
        "\n",
        "# Make predictions on the test set\n",
        "rf_pred = rf_regressor.predict(X_test)\n",
        "dt_pred = dt_regressor.predict(X_test)\n",
        "\n",
        "# Calculate Mean Squared Error (MSE) for both models\n",
        "rf_mse = mean_squared_error(y_test, rf_pred)\n",
        "dt_mse = mean_squared_error(y_test, dt_pred)\n",
        "\n",
        "# Print the MSE comparison\n",
        "print(f\"Random Forest Regressor MSE: {rf_mse:.4f}\")\n",
        "print(f\"Decision Tree Regressor MSE: {dt_mse:.4f}\")"
      ],
      "metadata": {
        "colab": {
          "base_uri": "https://localhost:8080/"
        },
        "id": "Nq5chUhY1Q-D",
        "outputId": "9fa8da77-a8cb-4e0d-8f65-3b229ce4048d"
      },
      "execution_count": 5,
      "outputs": [
        {
          "output_type": "stream",
          "name": "stdout",
          "text": [
            "Random Forest Regressor MSE: 2621.7932\n",
            "Decision Tree Regressor MSE: 6350.4278\n"
          ]
        }
      ]
    },
    {
      "cell_type": "code",
      "source": [
        "# Q 25: Compute the Out-of-Bag (OOB) Score for a Random Forest Classifier.\n",
        "from sklearn.datasets import load_iris\n",
        "from sklearn.ensemble import RandomForestClassifier\n",
        "\n",
        "# Load the Iris dataset\n",
        "data = load_iris()\n",
        "X, y = data.data, data.target\n",
        "\n",
        "# Create a Random Forest Classifier with OOB score enabled\n",
        "rf_clf = RandomForestClassifier(n_estimators=100, oob_score=True, random_state=42)\n",
        "\n",
        "# Train the model\n",
        "rf_clf.fit(X, y)\n",
        "\n",
        "# Get the Out-of-Bag (OOB) score\n",
        "oob_score = rf_clf.oob_score_\n",
        "\n",
        "# Print the OOB score\n",
        "print(\"Out-of-Bag (OOB) Score:\", oob_score)"
      ],
      "metadata": {
        "colab": {
          "base_uri": "https://localhost:8080/"
        },
        "id": "hkh-Vlqw1dIC",
        "outputId": "35098f2e-29f5-4ef4-e596-bdd5131ba2bb"
      },
      "execution_count": 6,
      "outputs": [
        {
          "output_type": "stream",
          "name": "stdout",
          "text": [
            "Out-of-Bag (OOB) Score: 0.9533333333333334\n"
          ]
        }
      ]
    },
    {
      "cell_type": "code",
      "source": [
        "# Q 26: Train a Bagging Classifier using SVM as a base estimator and print accuracy.\n",
        "from sklearn.datasets import load_iris\n",
        "from sklearn.model_selection import train_test_split\n",
        "from sklearn.ensemble import BaggingClassifier\n",
        "from sklearn.svm import SVC\n",
        "from sklearn.metrics import accuracy_score\n",
        "\n",
        "# Load Iris dataset\n",
        "data = load_iris()\n",
        "X, y = data.data, data.target\n",
        "\n",
        "# Split the data into training and test sets\n",
        "X_train, X_test, y_train, y_test = train_test_split(X, y, test_size=0.2, random_state=42)\n",
        "\n",
        "# Create a Bagging Classifier with SVM as the base estimator\n",
        "svm_base_estimator = SVC(probability=True)  # SVM with probability estimates\n",
        "bagging_clf = BaggingClassifier(\n",
        "    estimator=svm_base_estimator,  # Use 'estimator' instead of 'base_estimator'\n",
        "    n_estimators=50,  # Number of base estimators (SVM models) in the ensemble\n",
        "    random_state=42\n",
        ")\n",
        "\n",
        "# Train the model\n",
        "bagging_clf.fit(X_train, y_train)\n",
        "\n",
        "# Make predictions on the test set\n",
        "y_pred = bagging_clf.predict(X_test)\n",
        "\n",
        "# Calculate and print the accuracy\n",
        "accuracy = accuracy_score(y_test, y_pred)\n",
        "print(\"Bagging Classifier with SVM base estimator Accuracy:\", accuracy)"
      ],
      "metadata": {
        "colab": {
          "base_uri": "https://localhost:8080/"
        },
        "id": "T41-jMcl3J3E",
        "outputId": "f4c2fbad-cab1-4aa0-b11d-87c2243f6e0e"
      },
      "execution_count": 9,
      "outputs": [
        {
          "output_type": "stream",
          "name": "stdout",
          "text": [
            "Bagging Classifier with SVM base estimator Accuracy: 1.0\n"
          ]
        }
      ]
    },
    {
      "cell_type": "code",
      "source": [
        "# Q 27: Train a Random Forest Classifier with different numbers of trees and compare accuracy.\n",
        "from sklearn.datasets import load_iris\n",
        "from sklearn.model_selection import train_test_split\n",
        "from sklearn.ensemble import RandomForestClassifier\n",
        "from sklearn.metrics import accuracy_score\n",
        "\n",
        "# Load Iris dataset\n",
        "data = load_iris()\n",
        "X, y = data.data, data.target\n",
        "\n",
        "# Split the data into training and test sets\n",
        "X_train, X_test, y_train, y_test = train_test_split(X, y, test_size=0.2, random_state=42)\n",
        "\n",
        "# List of different numbers of trees to compare\n",
        "n_estimators_list = [10, 50, 100, 200]\n",
        "\n",
        "# Dictionary to store accuracy results\n",
        "accuracy_results = {}\n",
        "\n",
        "# Train a Random Forest Classifier for each value of n_estimators\n",
        "for n_estimators in n_estimators_list:\n",
        "    rf_clf = RandomForestClassifier(n_estimators=n_estimators, random_state=42)\n",
        "    rf_clf.fit(X_train, y_train)\n",
        "\n",
        "    # Make predictions\n",
        "    y_pred = rf_clf.predict(X_test)\n",
        "\n",
        "    # Calculate accuracy\n",
        "    accuracy = accuracy_score(y_test, y_pred)\n",
        "    accuracy_results[n_estimators] = accuracy\n",
        "    print(f\"Accuracy with {n_estimators} trees: {accuracy:.4f}\")"
      ],
      "metadata": {
        "colab": {
          "base_uri": "https://localhost:8080/"
        },
        "id": "aHEA4Q-u3pRU",
        "outputId": "cea9db8d-1665-403f-ad38-5c94513c5496"
      },
      "execution_count": 10,
      "outputs": [
        {
          "output_type": "stream",
          "name": "stdout",
          "text": [
            "Accuracy with 10 trees: 1.0000\n",
            "Accuracy with 50 trees: 1.0000\n",
            "Accuracy with 100 trees: 1.0000\n",
            "Accuracy with 200 trees: 1.0000\n"
          ]
        }
      ]
    },
    {
      "cell_type": "code",
      "source": [
        "# Q 28: Train a Bagging Classifier using Logistic Regression as a base estimator and print AUC score.\n",
        "from sklearn.datasets import load_iris\n",
        "from sklearn.model_selection import train_test_split\n",
        "from sklearn.ensemble import BaggingClassifier\n",
        "from sklearn.linear_model import LogisticRegression\n",
        "from sklearn.metrics import roc_auc_score\n",
        "from sklearn.preprocessing import label_binarize\n",
        "\n",
        "# Load the Iris dataset\n",
        "data = load_iris()\n",
        "X, y = data.data, data.target\n",
        "\n",
        "# Convert the problem to binary classification (for AUC evaluation)\n",
        "# We'll classify whether the flower is of the class \"setosa\" (class 0) or not (classes 1 and 2).\n",
        "y_binary = (y == 0).astype(int)\n",
        "\n",
        "# Split the data into training and test sets\n",
        "X_train, X_test, y_train, y_test = train_test_split(X, y_binary, test_size=0.2, random_state=42)\n",
        "\n",
        "# Create a Bagging Classifier with Logistic Regression as the base estimator\n",
        "log_reg_base_estimator = LogisticRegression(random_state=42)\n",
        "bagging_clf = BaggingClassifier(\n",
        "    estimator=log_reg_base_estimator,\n",
        "    n_estimators=50,  # Number of base estimators (Logistic Regression models)\n",
        "    random_state=42\n",
        ")\n",
        "\n",
        "# Train the model\n",
        "bagging_clf.fit(X_train, y_train)\n",
        "\n",
        "# Make predictions on the test set\n",
        "y_pred_prob = bagging_clf.predict_proba(X_test)[:, 1]  # Get probabilities for the positive class\n",
        "\n",
        "# Calculate the AUC score\n",
        "auc_score = roc_auc_score(y_test, y_pred_prob)\n",
        "\n",
        "# Print the AUC score\n",
        "print(\"AUC Score for Bagging Classifier with Logistic Regression as base estimator:\", auc_score)"
      ],
      "metadata": {
        "colab": {
          "base_uri": "https://localhost:8080/"
        },
        "id": "Vhjx5tuW3xwG",
        "outputId": "987b32ae-e0e7-4d9d-8fbe-bf36f86e56d2"
      },
      "execution_count": 12,
      "outputs": [
        {
          "output_type": "stream",
          "name": "stdout",
          "text": [
            "AUC Score for Bagging Classifier with Logistic Regression as base estimator: 1.0\n"
          ]
        }
      ]
    },
    {
      "cell_type": "code",
      "source": [
        "# Q 29: Train a Random Forest Regressor and analyze feature importance scores.\n",
        "from sklearn.datasets import fetch_california_housing\n",
        "from sklearn.ensemble import RandomForestRegressor\n",
        "import pandas as pd\n",
        "import matplotlib.pyplot as plt\n",
        "\n",
        "# Load the California Housing dataset\n",
        "data = fetch_california_housing()\n",
        "X, y = data.data, data.target\n",
        "feature_names = data.feature_names\n",
        "\n",
        "# Train a Random Forest Regressor\n",
        "rf_regressor = RandomForestRegressor(n_estimators=100, random_state=42)\n",
        "rf_regressor.fit(X, y)\n",
        "\n",
        "# Get feature importance scores\n",
        "importance_scores = rf_regressor.feature_importances_\n",
        "\n",
        "# Create a DataFrame to visualize the feature importance\n",
        "feature_importance_df = pd.DataFrame({\n",
        "    'Feature': feature_names,\n",
        "    'Importance': importance_scores\n",
        "})\n",
        "\n",
        "# Sort the DataFrame by importance scores in descending order\n",
        "feature_importance_df = feature_importance_df.sort_values(by='Importance', ascending=False)\n",
        "\n",
        "# Print the feature importance scores\n",
        "print(feature_importance_df)\n",
        "\n",
        "# Plot the feature importances\n",
        "plt.figure(figsize=(10, 6))\n",
        "plt.barh(feature_importance_df['Feature'], feature_importance_df['Importance'])\n",
        "plt.xlabel('Importance')\n",
        "plt.ylabel('Feature')\n",
        "plt.title('Feature Importance Scores')\n",
        "plt.show()"
      ],
      "metadata": {
        "colab": {
          "base_uri": "https://localhost:8080/",
          "height": 720
        },
        "id": "NPKYis0P5A3d",
        "outputId": "2c04fb29-13b7-41f4-ec20-7d96b1066b7a"
      },
      "execution_count": 13,
      "outputs": [
        {
          "output_type": "stream",
          "name": "stdout",
          "text": [
            "      Feature  Importance\n",
            "0      MedInc    0.520037\n",
            "5    AveOccup    0.136406\n",
            "6    Latitude    0.092856\n",
            "7   Longitude    0.092694\n",
            "1    HouseAge    0.052964\n",
            "2    AveRooms    0.044513\n",
            "4  Population    0.031232\n",
            "3   AveBedrms    0.029299\n"
          ]
        },
        {
          "output_type": "display_data",
          "data": {
            "text/plain": [
              "<Figure size 1000x600 with 1 Axes>"
            ],
            "image/png": "[encoded data removed]"
          },
          "metadata": {}
        }
      ]
    },
    {
      "cell_type": "code",
      "source": [
        "# Q 30: Train an ensemble model using both Bagging and Random Forest and compare accuracy.\n",
        "from sklearn.datasets import load_iris\n",
        "from sklearn.model_selection import train_test_split\n",
        "from sklearn.ensemble import BaggingClassifier, RandomForestClassifier\n",
        "from sklearn.tree import DecisionTreeClassifier\n",
        "from sklearn.metrics import accuracy_score\n",
        "\n",
        "# Load Iris dataset\n",
        "data = load_iris()\n",
        "X, y = data.data, data.target\n",
        "\n",
        "# Split the data into training and test sets\n",
        "X_train, X_test, y_train, y_test = train_test_split(X, y, test_size=0.2, random_state=42)\n",
        "\n",
        "# Create a Bagging Classifier with Decision Trees as the base estimator (default)\n",
        "bagging_clf = BaggingClassifier(\n",
        "    n_estimators=50,  # Number of base estimators (trees)\n",
        "    random_state=42\n",
        ")\n",
        "\n",
        "# Create a Random Forest Classifier\n",
        "random_forest_clf = RandomForestClassifier(\n",
        "    n_estimators=50,  # Number of trees in the forest\n",
        "    random_state=42\n",
        ")\n",
        "\n",
        "# Train the Bagging Classifier\n",
        "bagging_clf.fit(X_train, y_train)\n",
        "\n",
        "# Train the Random Forest Classifier\n",
        "random_forest_clf.fit(X_train, y_train)\n",
        "\n",
        "# Make predictions on the test set\n",
        "y_pred_bagging = bagging_clf.predict(X_test)\n",
        "y_pred_rf = random_forest_clf.predict(X_test)\n",
        "\n",
        "# Calculate and print the accuracy for both models\n",
        "accuracy_bagging = accuracy_score(y_test, y_pred_bagging)\n",
        "accuracy_rf = accuracy_score(y_test, y_pred_rf)\n",
        "\n",
        "print(f\"Accuracy of Bagging Classifier: {accuracy_bagging:.4f}\")\n",
        "print(f\"Accuracy of Random Forest Classifier: {accuracy_rf:.4f}\")"
      ],
      "metadata": {
        "colab": {
          "base_uri": "https://localhost:8080/"
        },
        "id": "FaqbD99r5TSW",
        "outputId": "97d03487-f700-430b-e72a-b9691f64f221"
      },
      "execution_count": 15,
      "outputs": [
        {
          "output_type": "stream",
          "name": "stdout",
          "text": [
            "Accuracy of Bagging Classifier: 1.0000\n",
            "Accuracy of Random Forest Classifier: 1.0000\n"
          ]
        }
      ]
    },
    {
      "cell_type": "code",
      "source": [
        "# Q 31:  Train a Random Forest Classifier and tune hyperparameters using GridSearchCV.\n",
        "from sklearn.datasets import load_iris\n",
        "from sklearn.model_selection import train_test_split, GridSearchCV\n",
        "from sklearn.ensemble import RandomForestClassifier\n",
        "from sklearn.metrics import accuracy_score\n",
        "\n",
        "# Load Iris dataset\n",
        "data = load_iris()\n",
        "X, y = data.data, data.target\n",
        "\n",
        "# Split the data into training and test sets\n",
        "X_train, X_test, y_train, y_test = train_test_split(X, y, test_size=0.2, random_state=42)\n",
        "\n",
        "# Create a Random Forest Classifier\n",
        "rf_clf = RandomForestClassifier(random_state=42)\n",
        "\n",
        "# Define the hyperparameters to tune\n",
        "param_grid = {\n",
        "    'n_estimators': [50, 100, 200],  # Number of trees in the forest\n",
        "    'max_depth': [None, 10, 20, 30],  # Maximum depth of the trees\n",
        "    'min_samples_split': [2, 5, 10],  # Minimum number of samples required to split a node\n",
        "    'min_samples_leaf': [1, 2, 4],  # Minimum number of samples required to be at a leaf node\n",
        "    'max_features': ['auto', 'sqrt', 'log2']  # Number of features to consider when splitting\n",
        "}\n",
        "\n",
        "# Set up GridSearchCV with 5-fold cross-validation\n",
        "grid_search = GridSearchCV(estimator=rf_clf, param_grid=param_grid,\n",
        "                           cv=5, scoring='accuracy', n_jobs=-1, verbose=2)\n",
        "\n",
        "# Fit GridSearchCV to the training data\n",
        "grid_search.fit(X_train, y_train)\n",
        "\n",
        "# Get the best parameters and the best score\n",
        "best_params = grid_search.best_params_\n",
        "best_score = grid_search.best_score_\n",
        "\n",
        "# Print the best hyperparameters and corresponding score\n",
        "print(f\"Best hyperparameters: {best_params}\")\n",
        "print(f\"Best cross-validation accuracy: {best_score:.4f}\")\n",
        "\n",
        "# Evaluate the model with the best hyperparameters on the test set\n",
        "best_rf_clf = grid_search.best_estimator_\n",
        "y_pred = best_rf_clf.predict(X_test)\n",
        "\n",
        "# Calculate and print the accuracy on the test set\n",
        "test_accuracy = accuracy_score(y_test, y_pred)\n",
        "print(f\"Test accuracy with the best model: {test_accuracy:.4f}\")"
      ],
      "metadata": {
        "colab": {
          "base_uri": "https://localhost:8080/"
        },
        "id": "6m4X_4XM5qjm",
        "outputId": "09cf7196-eaec-4230-b12a-60e446ebbfa1"
      },
      "execution_count": 16,
      "outputs": [
        {
          "output_type": "stream",
          "name": "stdout",
          "text": [
            "Fitting 5 folds for each of 324 candidates, totalling 1620 fits\n"
          ]
        },
        {
          "output_type": "stream",
          "name": "stderr",
          "text": [
            "/usr/local/lib/python3.11/dist-packages/sklearn/model_selection/_validation.py:528: FitFailedWarning: \n",
            "540 fits failed out of a total of 1620.\n",
            "The score on these train-test partitions for these parameters will be set to nan.\n",
            "If these failures are not expected, you can try to debug them by setting error_score='raise'.\n",
            "\n",
            "Below are more details about the failures:\n",
            "--------------------------------------------------------------------------------\n",
            "540 fits failed with the following error:\n",
            "Traceback (most recent call last):\n",
            "  File \"/usr/local/lib/python3.11/dist-packages/sklearn/model_selection/_validation.py\", line 866, in _fit_and_score\n",
            "    estimator.fit(X_train, y_train, **fit_params)\n",
            "  File \"/usr/local/lib/python3.11/dist-packages/sklearn/base.py\", line 1382, in wrapper\n",
            "    estimator._validate_params()\n",
            "  File \"/usr/local/lib/python3.11/dist-packages/sklearn/base.py\", line 436, in _validate_params\n",
            "    validate_parameter_constraints(\n",
            "  File \"/usr/local/lib/python3.11/dist-packages/sklearn/utils/_param_validation.py\", line 98, in validate_parameter_constraints\n",
            "    raise InvalidParameterError(\n",
            "sklearn.utils._param_validation.InvalidParameterError: The 'max_features' parameter of RandomForestClassifier must be an int in the range [1, inf), a float in the range (0.0, 1.0], a str among {'sqrt', 'log2'} or None. Got 'auto' instead.\n",
            "\n",
            "  warnings.warn(some_fits_failed_message, FitFailedWarning)\n",
            "/usr/local/lib/python3.11/dist-packages/sklearn/model_selection/_search.py:1108: UserWarning: One or more of the test scores are non-finite: [       nan        nan        nan        nan        nan        nan\n",
            "        nan        nan        nan        nan        nan        nan\n",
            "        nan        nan        nan        nan        nan        nan\n",
            "        nan        nan        nan        nan        nan        nan\n",
            "        nan        nan        nan 0.94166667 0.94166667 0.95\n",
            " 0.95       0.95       0.95       0.95       0.95       0.95\n",
            " 0.95       0.95       0.95833333 0.95       0.94166667 0.94166667\n",
            " 0.95       0.95       0.94166667 0.94166667 0.94166667 0.94166667\n",
            " 0.94166667 0.94166667 0.94166667 0.94166667 0.94166667 0.94166667\n",
            " 0.94166667 0.94166667 0.95       0.95       0.95       0.95\n",
            " 0.95       0.95       0.95       0.95       0.95       0.95833333\n",
            " 0.95       0.94166667 0.94166667 0.95       0.95       0.94166667\n",
            " 0.94166667 0.94166667 0.94166667 0.94166667 0.94166667 0.94166667\n",
            " 0.94166667 0.94166667 0.94166667        nan        nan        nan\n",
            "        nan        nan        nan        nan        nan        nan\n",
            "        nan        nan        nan        nan        nan        nan\n",
            "        nan        nan        nan        nan        nan        nan\n",
            "        nan        nan        nan        nan        nan        nan\n",
            " 0.94166667 0.94166667 0.95       0.95       0.95       0.95\n",
            " 0.95       0.95       0.95       0.95       0.95       0.95833333\n",
            " 0.95       0.94166667 0.94166667 0.95       0.95       0.94166667\n",
            " 0.94166667 0.94166667 0.94166667 0.94166667 0.94166667 0.94166667\n",
            " 0.94166667 0.94166667 0.94166667 0.94166667 0.94166667 0.95\n",
            " 0.95       0.95       0.95       0.95       0.95       0.95\n",
            " 0.95       0.95       0.95833333 0.95       0.94166667 0.94166667\n",
            " 0.95       0.95       0.94166667 0.94166667 0.94166667 0.94166667\n",
            " 0.94166667 0.94166667 0.94166667 0.94166667 0.94166667 0.94166667\n",
            "        nan        nan        nan        nan        nan        nan\n",
            "        nan        nan        nan        nan        nan        nan\n",
            "        nan        nan        nan        nan        nan        nan\n",
            "        nan        nan        nan        nan        nan        nan\n",
            "        nan        nan        nan 0.94166667 0.94166667 0.95\n",
            " 0.95       0.95       0.95       0.95       0.95       0.95\n",
            " 0.95       0.95       0.95833333 0.95       0.94166667 0.94166667\n",
            " 0.95       0.95       0.94166667 0.94166667 0.94166667 0.94166667\n",
            " 0.94166667 0.94166667 0.94166667 0.94166667 0.94166667 0.94166667\n",
            " 0.94166667 0.94166667 0.95       0.95       0.95       0.95\n",
            " 0.95       0.95       0.95       0.95       0.95       0.95833333\n",
            " 0.95       0.94166667 0.94166667 0.95       0.95       0.94166667\n",
            " 0.94166667 0.94166667 0.94166667 0.94166667 0.94166667 0.94166667\n",
            " 0.94166667 0.94166667 0.94166667        nan        nan        nan\n",
            "        nan        nan        nan        nan        nan        nan\n",
            "        nan        nan        nan        nan        nan        nan\n",
            "        nan        nan        nan        nan        nan        nan\n",
            "        nan        nan        nan        nan        nan        nan\n",
            " 0.94166667 0.94166667 0.95       0.95       0.95       0.95\n",
            " 0.95       0.95       0.95       0.95       0.95       0.95833333\n",
            " 0.95       0.94166667 0.94166667 0.95       0.95       0.94166667\n",
            " 0.94166667 0.94166667 0.94166667 0.94166667 0.94166667 0.94166667\n",
            " 0.94166667 0.94166667 0.94166667 0.94166667 0.94166667 0.95\n",
            " 0.95       0.95       0.95       0.95       0.95       0.95\n",
            " 0.95       0.95       0.95833333 0.95       0.94166667 0.94166667\n",
            " 0.95       0.95       0.94166667 0.94166667 0.94166667 0.94166667\n",
            " 0.94166667 0.94166667 0.94166667 0.94166667 0.94166667 0.94166667]\n",
            "  warnings.warn(\n"
          ]
        },
        {
          "output_type": "stream",
          "name": "stdout",
          "text": [
            "Best hyperparameters: {'max_depth': None, 'max_features': 'sqrt', 'min_samples_leaf': 2, 'min_samples_split': 2, 'n_estimators': 200}\n",
            "Best cross-validation accuracy: 0.9583\n",
            "Test accuracy with the best model: 1.0000\n"
          ]
        }
      ]
    },
    {
      "cell_type": "code",
      "source": [
        "# Q 32: Train a Bagging Regressor with different numbers of base estimators and compare performance.\n",
        "from sklearn.datasets import fetch_california_housing\n",
        "from sklearn.model_selection import train_test_split\n",
        "from sklearn.ensemble import BaggingRegressor\n",
        "from sklearn.tree import DecisionTreeRegressor\n",
        "from sklearn.metrics import mean_squared_error\n",
        "import matplotlib.pyplot as plt\n",
        "\n",
        "# Load California Housing dataset\n",
        "data = fetch_california_housing()\n",
        "X, y = data.data, data.target\n",
        "\n",
        "# Split the data into training and test sets\n",
        "X_train, X_test, y_train, y_test = train_test_split(X, y, test_size=0.2, random_state=42)\n",
        "\n",
        "# List of different numbers of base estimators (n_estimators) to test\n",
        "n_estimators_list = [10, 50, 100]\n",
        "\n",
        "# Store results\n",
        "mse_scores = []\n",
        "\n",
        "# Train and evaluate the model for each number of base estimators\n",
        "for n_estimators in n_estimators_list:\n",
        "    # Create the Bagging Regressor with the specified number of base estimators\n",
        "    bagging_regressor = BaggingRegressor(n_estimators=n_estimators, random_state=42)\n",
        "\n",
        "    # Train the model\n",
        "    bagging_regressor.fit(X_train, y_train)\n",
        "\n",
        "    # Predict on the test set\n",
        "    y_pred = bagging_regressor.predict(X_test)\n",
        "\n",
        "    # Calculate Mean Squared Error (MSE)\n",
        "    mse = mean_squared_error(y_test, y_pred)\n",
        "    mse_scores.append(mse)\n",
        "\n",
        "    print(f\"Mean Squared Error for {n_estimators} base estimators: {mse:.4f}\")\n",
        "\n",
        "# Plot the MSE scores for different numbers of base estimators\n",
        "plt.figure(figsize=(8, 5))\n",
        "plt.plot(n_estimators_list, mse_scores, marker='o', linestyle='-', color='b')\n",
        "plt.title('Bagging Regressor Performance with Different Numbers of Base Estimators')\n",
        "plt.xlabel('Number of Base Estimators')\n",
        "plt.ylabel('Mean Squared Error (MSE)')\n",
        "plt.grid(True)\n",
        "plt.show()"
      ],
      "metadata": {
        "colab": {
          "base_uri": "https://localhost:8080/",
          "height": 539
        },
        "id": "jswnUrBW58zN",
        "outputId": "0c7463b9-cb21-4d77-cc4e-eb9044ba7b2e"
      },
      "execution_count": 19,
      "outputs": [
        {
          "output_type": "stream",
          "name": "stdout",
          "text": [
            "Mean Squared Error for 10 base estimators: 0.2824\n",
            "Mean Squared Error for 50 base estimators: 0.2573\n",
            "Mean Squared Error for 100 base estimators: 0.2559\n"
          ]
        },
        {
          "output_type": "display_data",
          "data": {
            "text/plain": [
              "<Figure size 800x500 with 1 Axes>"
            ],
            "image/png": "[encoded data removed]"
          },
          "metadata": {}
        }
      ]
    },
    {
      "cell_type": "code",
      "source": [
        "# Q 33:  Train a Random Forest Classifier and analyze misclassified samples.\n",
        "from sklearn.datasets import load_iris\n",
        "from sklearn.model_selection import train_test_split\n",
        "from sklearn.ensemble import RandomForestClassifier\n",
        "from sklearn.metrics import accuracy_score, confusion_matrix\n",
        "import pandas as pd\n",
        "import numpy as np\n",
        "\n",
        "# Load Iris dataset\n",
        "data = load_iris()\n",
        "X, y = data.data, data.target\n",
        "feature_names = data.feature_names\n",
        "target_names = data.target_names\n",
        "\n",
        "# Split the data into training and test sets\n",
        "X_train, X_test, y_train, y_test = train_test_split(X, y, test_size=0.2, random_state=42)\n",
        "\n",
        "# Create a Random Forest Classifier\n",
        "rf_clf = RandomForestClassifier(n_estimators=100, random_state=42)\n",
        "\n",
        "# Train the model\n",
        "rf_clf.fit(X_train, y_train)\n",
        "\n",
        "# Make predictions on the test set\n",
        "y_pred = rf_clf.predict(X_test)\n",
        "\n",
        "# Calculate accuracy\n",
        "accuracy = accuracy_score(y_test, y_pred)\n",
        "print(f\"Accuracy of Random Forest Classifier: {accuracy:.4f}\")\n",
        "\n",
        "# Confusion matrix to analyze misclassifications\n",
        "cm = confusion_matrix(y_test, y_pred)\n",
        "\n",
        "# Show the confusion matrix\n",
        "print(\"Confusion Matrix:\")\n",
        "print(cm)\n",
        "\n",
        "# Analyze misclassified samples\n",
        "misclassified_indices = np.where(y_pred != y_test)[0]\n",
        "misclassified_samples = X_test[misclassified_indices]\n",
        "misclassified_labels = y_test[misclassified_indices]\n",
        "misclassified_predictions = y_pred[misclassified_indices]\n",
        "\n",
        "# Display misclassified samples\n",
        "misclassified_df = pd.DataFrame(misclassified_samples, columns=feature_names)\n",
        "misclassified_df['True Label'] = [target_names[label] for label in misclassified_labels]\n",
        "misclassified_df['Predicted Label'] = [target_names[label] for label in misclassified_predictions]\n",
        "\n",
        "print(\"\\nMisclassified Samples:\")\n",
        "print(misclassified_df)"
      ],
      "metadata": {
        "colab": {
          "base_uri": "https://localhost:8080/"
        },
        "id": "3hcUjCfY6K93",
        "outputId": "55b8d1fd-71ae-41ec-c064-03e44f8d702b"
      },
      "execution_count": 20,
      "outputs": [
        {
          "output_type": "stream",
          "name": "stdout",
          "text": [
            "Accuracy of Random Forest Classifier: 1.0000\n",
            "Confusion Matrix:\n",
            "[[10  0  0]\n",
            " [ 0  9  0]\n",
            " [ 0  0 11]]\n",
            "\n",
            "Misclassified Samples:\n",
            "Empty DataFrame\n",
            "Columns: [sepal length (cm), sepal width (cm), petal length (cm), petal width (cm), True Label, Predicted Label]\n",
            "Index: []\n"
          ]
        }
      ]
    },
    {
      "cell_type": "code",
      "source": [
        "# Q 34: Train a Bagging Classifier and compare its performance with a single Decision Tree Classifier.\n",
        "from sklearn.datasets import load_iris\n",
        "from sklearn.model_selection import train_test_split\n",
        "from sklearn.tree import DecisionTreeClassifier\n",
        "from sklearn.ensemble import BaggingClassifier\n",
        "from sklearn.metrics import accuracy_score\n",
        "\n",
        "# Load the Iris dataset\n",
        "data = load_iris()\n",
        "X, y = data.data, data.target\n",
        "\n",
        "# Split the dataset into training and testing sets (80% train, 20% test)\n",
        "X_train, X_test, y_train, y_test = train_test_split(X, y, test_size=0.2, random_state=42)\n",
        "\n",
        "# 1. Train a Decision Tree Classifier\n",
        "dt_classifier = DecisionTreeClassifier(random_state=42)\n",
        "dt_classifier.fit(X_train, y_train)\n",
        "\n",
        "# Make predictions with the Decision Tree Classifier\n",
        "y_pred_dt = dt_classifier.predict(X_test)\n",
        "\n",
        "# Evaluate accuracy of the Decision Tree\n",
        "accuracy_dt = accuracy_score(y_test, y_pred_dt)\n",
        "print(f\"Accuracy of Decision Tree Classifier: {accuracy_dt:.4f}\")\n",
        "\n",
        "# 2. Train a Bagging Classifier (using default base estimator, which is a DecisionTree)\n",
        "bagging_classifier = BaggingClassifier(n_estimators=50, random_state=42)\n",
        "bagging_classifier.fit(X_train, y_train)\n",
        "\n",
        "# Make predictions with the Bagging Classifier\n",
        "y_pred_bagging = bagging_classifier.predict(X_test)\n",
        "\n",
        "# Evaluate accuracy of the Bagging Classifier\n",
        "accuracy_bagging = accuracy_score(y_test, y_pred_bagging)\n",
        "print(f\"Accuracy of Bagging Classifier: {accuracy_bagging:.4f}\")\n",
        "\n",
        "# 3. Compare the performance of the two models\n",
        "print(\"\\nPerformance Comparison:\")\n",
        "print(f\"Decision Tree Classifier Accuracy: {accuracy_dt:.4f}\")\n",
        "print(f\"Bagging Classifier Accuracy: {accuracy_bagging:.4f}\")"
      ],
      "metadata": {
        "colab": {
          "base_uri": "https://localhost:8080/"
        },
        "id": "cTxYxMAH7L_k",
        "outputId": "b1604b94-207a-47c7-8854-2c3120cc8a73"
      },
      "execution_count": 22,
      "outputs": [
        {
          "output_type": "stream",
          "name": "stdout",
          "text": [
            "Accuracy of Decision Tree Classifier: 1.0000\n",
            "Accuracy of Bagging Classifier: 1.0000\n",
            "\n",
            "Performance Comparison:\n",
            "Decision Tree Classifier Accuracy: 1.0000\n",
            "Bagging Classifier Accuracy: 1.0000\n"
          ]
        }
      ]
    },
    {
      "cell_type": "code",
      "source": [
        "# Q 35:  Train a Random Forest Classifier and visualize the confusion matrix.\n",
        "from sklearn.datasets import load_iris\n",
        "from sklearn.model_selection import train_test_split\n",
        "from sklearn.ensemble import RandomForestClassifier\n",
        "from sklearn.metrics import confusion_matrix\n",
        "import seaborn as sns\n",
        "import matplotlib.pyplot as plt\n",
        "\n",
        "# Load the Iris dataset\n",
        "data = load_iris()\n",
        "X, y = data.data, data.target\n",
        "\n",
        "# Split the dataset into training and testing sets (80% train, 20% test)\n",
        "X_train, X_test, y_train, y_test = train_test_split(X, y, test_size=0.2, random_state=42)\n",
        "\n",
        "# 1. Train a Random Forest Classifier\n",
        "rf_classifier = RandomForestClassifier(n_estimators=100, random_state=42)\n",
        "rf_classifier.fit(X_train, y_train)\n",
        "\n",
        "# 2. Make predictions on the test set\n",
        "y_pred = rf_classifier.predict(X_test)\n",
        "\n",
        "# 3. Compute the confusion matrix\n",
        "cm = confusion_matrix(y_test, y_pred)\n",
        "\n",
        "# 4. Visualize the confusion matrix using a heatmap\n",
        "plt.figure(figsize=(6, 5))\n",
        "sns.heatmap(cm, annot=True, fmt=\"d\", cmap=\"Blues\", xticklabels=data.target_names, yticklabels=data.target_names)\n",
        "plt.title('Confusion Matrix for Random Forest Classifier')\n",
        "plt.xlabel('Predicted Label')\n",
        "plt.ylabel('True Label')\n",
        "plt.show()"
      ],
      "metadata": {
        "colab": {
          "base_uri": "https://localhost:8080/",
          "height": 487
        },
        "id": "c_Yt_ulw7lPb",
        "outputId": "101ea773-f2c4-42e0-d7d7-cd24cdb8568e"
      },
      "execution_count": 23,
      "outputs": [
        {
          "output_type": "display_data",
          "data": {
            "text/plain": [
              "<Figure size 600x500 with 2 Axes>"
            ],
            "image/png": "[encoded data removed]"
          },
          "metadata": {}
        }
      ]
    },
    {
      "cell_type": "code",
      "source": [
        "# Q 36: Train a Stacking Classifier using Decision Trees, SVM, and Logistic Regression, and compare accuracy.\n",
        "\n",
        "from sklearn.datasets import load_iris\n",
        "from sklearn.model_selection import train_test_split\n",
        "from sklearn.tree import DecisionTreeClassifier\n",
        "from sklearn.svm import SVC\n",
        "from sklearn.linear_model import LogisticRegression\n",
        "from sklearn.ensemble import StackingClassifier\n",
        "from sklearn.metrics import accuracy_score\n",
        "\n",
        "# Load the Iris dataset\n",
        "data = load_iris()\n",
        "X, y = data.data, data.target\n",
        "\n",
        "# Split the dataset into training and testing sets (80% train, 20% test)\n",
        "X_train, X_test, y_train, y_test = train_test_split(X, y, test_size=0.2, random_state=42)\n",
        "\n",
        "# 1. Train the base models\n",
        "dt_classifier = DecisionTreeClassifier(random_state=42)\n",
        "svm_classifier = SVC(probability=True, random_state=42)  # SVM with probability=True for compatibility with stacking\n",
        "logreg_classifier = LogisticRegression(random_state=42)\n",
        "\n",
        "# 2. Train the Stacking Classifier\n",
        "estimators = [\n",
        "    ('decision_tree', dt_classifier),\n",
        "    ('svm', svm_classifier),\n",
        "    ('logreg', logreg_classifier)\n",
        "]\n",
        "\n",
        "stacking_classifier = StackingClassifier(estimators=estimators, final_estimator=LogisticRegression())\n",
        "stacking_classifier.fit(X_train, y_train)\n",
        "\n",
        "# 3. Make predictions with each model\n",
        "y_pred_dt = dt_classifier.fit(X_train, y_train).predict(X_test)\n",
        "y_pred_svm = svm_classifier.fit(X_train, y_train).predict(X_test)\n",
        "y_pred_logreg = logreg_classifier.fit(X_train, y_train).predict(X_test)\n",
        "y_pred_stacking = stacking_classifier.predict(X_test)\n",
        "\n",
        "# 4. Evaluate accuracy of each model\n",
        "accuracy_dt = accuracy_score(y_test, y_pred_dt)\n",
        "accuracy_svm = accuracy_score(y_test, y_pred_svm)\n",
        "accuracy_logreg = accuracy_score(y_test, y_pred_logreg)\n",
        "accuracy_stacking = accuracy_score(y_test, y_pred_stacking)\n",
        "\n",
        "# 5. Compare the performance\n",
        "print(f\"Accuracy of Decision Tree Classifier: {accuracy_dt:.4f}\")\n",
        "print(f\"Accuracy of SVM Classifier: {accuracy_svm:.4f}\")\n",
        "print(f\"Accuracy of Logistic Regression Classifier: {accuracy_logreg:.4f}\")\n",
        "print(f\"Accuracy of Stacking Classifier: {accuracy_stacking:.4f}\")"
      ],
      "metadata": {
        "colab": {
          "base_uri": "https://localhost:8080/"
        },
        "id": "rwjSGJx47wLQ",
        "outputId": "5f4ce5df-fd83-4268-8a4d-9bbf688548ac"
      },
      "execution_count": 24,
      "outputs": [
        {
          "output_type": "stream",
          "name": "stdout",
          "text": [
            "Accuracy of Decision Tree Classifier: 1.0000\n",
            "Accuracy of SVM Classifier: 1.0000\n",
            "Accuracy of Logistic Regression Classifier: 1.0000\n",
            "Accuracy of Stacking Classifier: 1.0000\n"
          ]
        }
      ]
    },
    {
      "cell_type": "code",
      "source": [
        "# Q 37:  Train a Random Forest Classifier and print the top 5 most important features.\n",
        "from sklearn.datasets import load_iris\n",
        "from sklearn.ensemble import RandomForestClassifier\n",
        "import pandas as pd\n",
        "import numpy as np\n",
        "\n",
        "# Load the Iris dataset\n",
        "data = load_iris()\n",
        "X, y = data.data, data.target\n",
        "\n",
        "# Create and train the Random Forest Classifier\n",
        "rf_classifier = RandomForestClassifier(n_estimators=100, random_state=42)\n",
        "rf_classifier.fit(X, y)\n",
        "\n",
        "# Get the feature importances\n",
        "feature_importances = rf_classifier.feature_importances_\n",
        "\n",
        "# Create a DataFrame to display the feature importances\n",
        "features_df = pd.DataFrame({\n",
        "    'Feature': data.feature_names,\n",
        "    'Importance': feature_importances\n",
        "})\n",
        "\n",
        "# Sort the features by importance in descending order\n",
        "features_df_sorted = features_df.sort_values(by='Importance', ascending=False)\n",
        "\n",
        "# Print the top 5 most important features\n",
        "print(\"Top 5 Most Important Features:\")\n",
        "print(features_df_sorted.head(5))"
      ],
      "metadata": {
        "colab": {
          "base_uri": "https://localhost:8080/"
        },
        "id": "QQLqwVQY8BB7",
        "outputId": "4788c679-3029-4ebd-fcb5-6b7dc9fd207d"
      },
      "execution_count": 25,
      "outputs": [
        {
          "output_type": "stream",
          "name": "stdout",
          "text": [
            "Top 5 Most Important Features:\n",
            "             Feature  Importance\n",
            "2  petal length (cm)    0.436130\n",
            "3   petal width (cm)    0.436065\n",
            "0  sepal length (cm)    0.106128\n",
            "1   sepal width (cm)    0.021678\n"
          ]
        }
      ]
    },
    {
      "cell_type": "code",
      "source": [
        "# Q 38: Train a Bagging Classifier and evaluate performance using Precision, Recall, and F1-score.\n",
        "from sklearn.datasets import load_iris\n",
        "from sklearn.model_selection import train_test_split\n",
        "from sklearn.tree import DecisionTreeClassifier\n",
        "from sklearn.ensemble import BaggingClassifier\n",
        "from sklearn.metrics import precision_score, recall_score, f1_score, accuracy_score\n",
        "\n",
        "# Load the Iris dataset\n",
        "data = load_iris()\n",
        "X, y = data.data, data.target\n",
        "\n",
        "# Split the dataset into training and testing sets (80% train, 20% test)\n",
        "X_train, X_test, y_train, y_test = train_test_split(X, y, test_size=0.2, random_state=42)\n",
        "\n",
        "# 1. Train a Bagging Classifier with Decision Trees as the base estimator\n",
        "bagging_classifier = BaggingClassifier(estimator=DecisionTreeClassifier(random_state=42),\n",
        "                                      n_estimators=50, random_state=42)\n",
        "bagging_classifier.fit(X_train, y_train)\n",
        "\n",
        "# 2. Make predictions on the test set\n",
        "y_pred = bagging_classifier.predict(X_test)\n",
        "\n",
        "# 3. Evaluate performance using Precision, Recall, and F1-score\n",
        "precision = precision_score(y_test, y_pred, average='macro')\n",
        "recall = recall_score(y_test, y_pred, average='macro')\n",
        "f1 = f1_score(y_test, y_pred, average='macro')\n",
        "\n",
        "# Print the evaluation metrics\n",
        "print(f\"Precision: {precision:.4f}\")\n",
        "print(f\"Recall: {recall:.4f}\")\n",
        "print(f\"F1 Score: {f1:.4f}\")"
      ],
      "metadata": {
        "colab": {
          "base_uri": "https://localhost:8080/"
        },
        "id": "-Mo8h8xb8Nyx",
        "outputId": "8a899c88-cab7-4978-8b82-5d8d28d567b1"
      },
      "execution_count": 29,
      "outputs": [
        {
          "output_type": "stream",
          "name": "stdout",
          "text": [
            "Precision: 1.0000\n",
            "Recall: 1.0000\n",
            "F1 Score: 1.0000\n"
          ]
        }
      ]
    },
    {
      "cell_type": "code",
      "source": [
        "# Q 39: Train a Random Forest Classifier and analyze the effect of max_depth on accuracy.\n",
        "import matplotlib.pyplot as plt\n",
        "from sklearn.datasets import load_iris\n",
        "from sklearn.model_selection import train_test_split\n",
        "from sklearn.ensemble import RandomForestClassifier\n",
        "from sklearn.metrics import accuracy_score\n",
        "\n",
        "# Load the Iris dataset\n",
        "data = load_iris()\n",
        "X, y = data.data, data.target\n",
        "\n",
        "# Split the dataset into training and testing sets (80% train, 20% test)\n",
        "X_train, X_test, y_train, y_test = train_test_split(X, y, test_size=0.2, random_state=42)\n",
        "\n",
        "# List to store accuracy for each max_depth value\n",
        "accuracies = []\n",
        "\n",
        "# Vary max_depth from 1 to 10\n",
        "for max_depth in range(1, 11):\n",
        "    # Train a Random Forest Classifier with a specific max_depth\n",
        "    rf_classifier = RandomForestClassifier(max_depth=max_depth, n_estimators=100, random_state=42)\n",
        "    rf_classifier.fit(X_train, y_train)\n",
        "\n",
        "    # Predict on the test set\n",
        "    y_pred = rf_classifier.predict(X_test)\n",
        "\n",
        "    # Calculate accuracy\n",
        "    accuracy = accuracy_score(y_test, y_pred)\n",
        "    accuracies.append(accuracy)\n",
        "\n",
        "# Plot the effect of max_depth on accuracy\n",
        "plt.figure(figsize=(8, 6))\n",
        "plt.plot(range(1, 11), accuracies, marker='o', linestyle='-', color='b')\n",
        "plt.title('Effect of max_depth on Accuracy of Random Forest Classifier')\n",
        "plt.xlabel('max_depth')\n",
        "plt.ylabel('Accuracy')\n",
        "plt.xticks(range(1, 11))\n",
        "plt.grid(True)\n",
        "plt.show()\n",
        "\n",
        "# Print the accuracies for each max_depth\n",
        "for max_depth, accuracy in zip(range(1, 11), accuracies):\n",
        "    print(f\"Accuracy for max_depth={max_depth}: {accuracy:.4f}\")"
      ],
      "metadata": {
        "colab": {
          "base_uri": "https://localhost:8080/",
          "height": 738
        },
        "id": "6VQN7Nww8eh8",
        "outputId": "9ba14207-d1fd-4734-9ebb-a79a0db92774"
      },
      "execution_count": 27,
      "outputs": [
        {
          "output_type": "display_data",
          "data": {
            "text/plain": [
              "<Figure size 800x600 with 1 Axes>"
            ],
            "image/png": "[encoded data removed]"
          },
          "metadata": {}
        },
        {
          "output_type": "stream",
          "name": "stdout",
          "text": [
            "Accuracy for max_depth=1: 1.0000\n",
            "Accuracy for max_depth=2: 1.0000\n",
            "Accuracy for max_depth=3: 1.0000\n",
            "Accuracy for max_depth=4: 1.0000\n",
            "Accuracy for max_depth=5: 1.0000\n",
            "Accuracy for max_depth=6: 1.0000\n",
            "Accuracy for max_depth=7: 1.0000\n",
            "Accuracy for max_depth=8: 1.0000\n",
            "Accuracy for max_depth=9: 1.0000\n",
            "Accuracy for max_depth=10: 1.0000\n"
          ]
        }
      ]
    },
    {
      "cell_type": "code",
      "source": [
        "# Q 40: Train a Bagging Regressor using different base estimators (DecisionTree and KNeighbors) and compare\n",
        "#performance\n",
        "from sklearn.datasets import fetch_california_housing\n",
        "from sklearn.model_selection import train_test_split\n",
        "from sklearn.tree import DecisionTreeRegressor\n",
        "from sklearn.neighbors import KNeighborsRegressor\n",
        "from sklearn.ensemble import BaggingRegressor\n",
        "from sklearn.metrics import mean_squared_error, r2_score\n",
        "\n",
        "# Load the California Housing dataset (regression problem)\n",
        "data = fetch_california_housing()\n",
        "X, y = data.data, data.target\n",
        "\n",
        "# Split the dataset into training and testing sets (80% train, 20% test)\n",
        "X_train, X_test, y_train, y_test = train_test_split(X, y, test_size=0.2, random_state=42)\n",
        "\n",
        "# 1. Train a Bagging Regressor with Decision Tree as the base estimator\n",
        "decision_tree_regressor = BaggingRegressor(estimator=DecisionTreeRegressor(random_state=42),\n",
        "                                          n_estimators=50, random_state=42)\n",
        "decision_tree_regressor.fit(X_train, y_train)\n",
        "y_pred_tree = decision_tree_regressor.predict(X_test)\n",
        "\n",
        "# 2. Train a Bagging Regressor with K Neighbors as the base estimator\n",
        "knn_regressor = BaggingRegressor(estimator=KNeighborsRegressor(),\n",
        "                                 n_estimators=50, random_state=42)\n",
        "knn_regressor.fit(X_train, y_train)\n",
        "y_pred_knn = knn_regressor.predict(X_test)\n",
        "\n",
        "# 3. Evaluate performance using R² and MSE\n",
        "# Decision Tree Regressor metrics\n",
        "r2_tree = r2_score(y_test, y_pred_tree)\n",
        "mse_tree = mean_squared_error(y_test, y_pred_tree)\n",
        "\n",
        "# KNN Regressor metrics\n",
        "r2_knn = r2_score(y_test, y_pred_knn)\n",
        "mse_knn = mean_squared_error(y_test, y_pred_knn)\n",
        "\n",
        "# Print the performance comparison\n",
        "print(\"Decision Tree Regressor - R²:\", r2_tree)\n",
        "print(\"Decision Tree Regressor - MSE:\", mse_tree)\n",
        "print(\"\\nK Neighbors Regressor - R²:\", r2_knn)\n",
        "print(\"K Neighbors Regressor - MSE:\", mse_knn)"
      ],
      "metadata": {
        "colab": {
          "base_uri": "https://localhost:8080/"
        },
        "id": "JWNLvifN8-HJ",
        "outputId": "dc8241c7-0de5-4a21-e4a5-b3536a5a96d3"
      },
      "execution_count": 32,
      "outputs": [
        {
          "output_type": "stream",
          "name": "stdout",
          "text": [
            "Decision Tree Regressor - R²: 0.8036499747356253\n",
            "Decision Tree Regressor - MSE: 0.2572988359842641\n",
            "\n",
            "K Neighbors Regressor - R²: 0.1786722263202739\n",
            "K Neighbors Regressor - MSE: 1.0762752887085227\n"
          ]
        }
      ]
    },
    {
      "cell_type": "code",
      "source": [
        "# Q 41:  Train a Random Forest Classifier and evaluate its performance using ROC-AUC Score.\n",
        "from sklearn.datasets import load_breast_cancer\n",
        "from sklearn.model_selection import train_test_split\n",
        "from sklearn.ensemble import RandomForestClassifier\n",
        "from sklearn.metrics import roc_auc_score, roc_curve\n",
        "import matplotlib.pyplot as plt\n",
        "\n",
        "# Load the Breast Cancer dataset (binary classification)\n",
        "data = load_breast_cancer()\n",
        "X, y = data.data, data.target\n",
        "\n",
        "# Split the dataset into training and testing sets (80% train, 20% test)\n",
        "X_train, X_test, y_train, y_test = train_test_split(X, y, test_size=0.2, random_state=42)\n",
        "\n",
        "# 1. Train the Random Forest Classifier\n",
        "rf_classifier = RandomForestClassifier(n_estimators=100, random_state=42)\n",
        "rf_classifier.fit(X_train, y_train)\n",
        "\n",
        "# 2. Predict the probabilities on the test set (needed for ROC-AUC)\n",
        "y_prob = rf_classifier.predict_proba(X_test)[:, 1]  # Probabilities for the positive class\n",
        "\n",
        "# 3. Compute the ROC-AUC score\n",
        "roc_auc = roc_auc_score(y_test, y_prob)\n",
        "print(f\"ROC-AUC Score: {roc_auc:.4f}\")\n",
        "\n",
        "# 4. Plot the ROC curve\n",
        "fpr, tpr, thresholds = roc_curve(y_test, y_prob)\n",
        "\n",
        "plt.figure(figsize=(8, 6))\n",
        "plt.plot(fpr, tpr, color='b', lw=2, label=f'ROC curve (AUC = {roc_auc:.4f})')\n",
        "plt.plot([0, 1], [0, 1], color='gray', linestyle='--')  # Random classifier (diagonal line)\n",
        "plt.title('Random Forest Classifier ROC Curve')\n",
        "plt.xlabel('False Positive Rate')\n",
        "plt.ylabel('True Positive Rate')\n",
        "plt.legend(loc=\"lower right\")\n",
        "plt.grid(True)\n",
        "plt.show()\n"
      ],
      "metadata": {
        "colab": {
          "base_uri": "https://localhost:8080/",
          "height": 581
        },
        "id": "7Fmn_9Rn9LIJ",
        "outputId": "e21ca2cc-3959-4fa1-a04c-21f0181cedd3"
      },
      "execution_count": 31,
      "outputs": [
        {
          "output_type": "stream",
          "name": "stdout",
          "text": [
            "ROC-AUC Score: 0.9953\n"
          ]
        },
        {
          "output_type": "display_data",
          "data": {
            "text/plain": [
              "<Figure size 800x600 with 1 Axes>"
            ],
            "image/png": "[encoded data removed]"
          },
          "metadata": {}
        }
      ]
    },
    {
      "cell_type": "code",
      "source": [
        "# Q 42:  Train a Bagging Classifier and evaluate its performance using cross-validatio.\n",
        "from sklearn.datasets import load_iris\n",
        "from sklearn.model_selection import cross_val_score\n",
        "from sklearn.ensemble import BaggingClassifier\n",
        "from sklearn.tree import DecisionTreeClassifier\n",
        "from sklearn.metrics import make_scorer\n",
        "\n",
        "# Load the Iris dataset (classification problem)\n",
        "data = load_iris()\n",
        "X, y = data.data, data.target\n",
        "\n",
        "# 1. Create a Bagging Classifier with Decision Tree as the base estimator\n",
        "bagging_classifier = BaggingClassifier(estimator=DecisionTreeClassifier(random_state=42),\n",
        "                                      n_estimators=50, random_state=42)\n",
        "\n",
        "# 2. Perform cross-validation (default is 5-fold)\n",
        "cv_scores = cross_val_score(bagging_classifier, X, y, cv=5, scoring='accuracy')\n",
        "\n",
        "# 3. Output the cross-validation scores\n",
        "print(\"Cross-validation scores (accuracy):\", cv_scores)\n",
        "print(\"Mean cross-validation accuracy:\", cv_scores.mean())\n",
        "print(\"Standard deviation of cross-validation accuracy:\", cv_scores.std())"
      ],
      "metadata": {
        "colab": {
          "base_uri": "https://localhost:8080/"
        },
        "id": "_-aoz1e2966f",
        "outputId": "bcbf9bb8-084f-4aac-8a7a-b167698b8c1b"
      },
      "execution_count": 33,
      "outputs": [
        {
          "output_type": "stream",
          "name": "stdout",
          "text": [
            "Cross-validation scores (accuracy): [0.96666667 0.96666667 0.93333333 0.96666667 1.        ]\n",
            "Mean cross-validation accuracy: 0.9666666666666668\n",
            "Standard deviation of cross-validation accuracy: 0.02108185106778919\n"
          ]
        }
      ]
    },
    {
      "cell_type": "code",
      "source": [
        "# Q 43: Train a Random Forest Classifier and plot the Precision-Recall curv\n",
        "import matplotlib.pyplot as plt\n",
        "from sklearn.datasets import load_breast_cancer\n",
        "from sklearn.model_selection import train_test_split\n",
        "from sklearn.ensemble import RandomForestClassifier\n",
        "from sklearn.metrics import precision_recall_curve, auc\n",
        "\n",
        "# Load the Breast Cancer dataset (binary classification)\n",
        "data = load_breast_cancer()\n",
        "X, y = data.data, data.target\n",
        "\n",
        "# Split the dataset into training and testing sets (80% train, 20% test)\n",
        "X_train, X_test, y_train, y_test = train_test_split(X, y, test_size=0.2, random_state=42)\n",
        "\n",
        "# 1. Train the Random Forest Classifier\n",
        "rf_classifier = RandomForestClassifier(n_estimators=100, random_state=42)\n",
        "rf_classifier.fit(X_train, y_train)\n",
        "\n",
        "# 2. Get predicted probabilities for the positive class (needed for Precision-Recall curve)\n",
        "y_prob = rf_classifier.predict_proba(X_test)[:, 1]  # Probabilities for the positive class\n",
        "\n",
        "# 3. Compute Precision and Recall values\n",
        "precision, recall, thresholds = precision_recall_curve(y_test, y_prob)\n",
        "\n",
        "# 4. Compute the Area Under the Curve (AUC)\n",
        "pr_auc = auc(recall, precision)\n",
        "print(f\"Precision-Recall AUC: {pr_auc:.4f}\")\n",
        "\n",
        "# 5. Plot the Precision-Recall curve\n",
        "plt.figure(figsize=(8, 6))\n",
        "plt.plot(recall, precision, color='b', lw=2, label=f'Precision-Recall curve (AUC = {pr_auc:.4f})')\n",
        "plt.xlabel('Recall')\n",
        "plt.ylabel('Precision')\n",
        "plt.title('Precision-Recall Curve for Random Forest Classifier')\n",
        "plt.legend(loc=\"lower left\")\n",
        "plt.grid(True)\n",
        "plt.show()"
      ],
      "metadata": {
        "colab": {
          "base_uri": "https://localhost:8080/",
          "height": 581
        },
        "id": "ImcxhDxE-H9G",
        "outputId": "bd045f82-96d3-4ab5-f62d-94549ffd8405"
      },
      "execution_count": 34,
      "outputs": [
        {
          "output_type": "stream",
          "name": "stdout",
          "text": [
            "Precision-Recall AUC: 0.9971\n"
          ]
        },
        {
          "output_type": "display_data",
          "data": {
            "text/plain": [
              "<Figure size 800x600 with 1 Axes>"
            ],
            "image/png": "[encoded data removed]"
          },
          "metadata": {}
        }
      ]
    },
    {
      "cell_type": "code",
      "source": [
        "# Q 44: Train a Stacking Classifier with Random Forest and Logistic Regression and compare accuracy.\n",
        "from sklearn.datasets import load_breast_cancer\n",
        "from sklearn.model_selection import train_test_split\n",
        "from sklearn.ensemble import RandomForestClassifier, StackingClassifier\n",
        "from sklearn.linear_model import LogisticRegression\n",
        "from sklearn.metrics import accuracy_score\n",
        "\n",
        "# Load the Breast Cancer dataset (binary classification)\n",
        "data = load_breast_cancer()\n",
        "X, y = data.data, data.target\n",
        "\n",
        "# Split the dataset into training and testing sets (80% train, 20% test)\n",
        "X_train, X_test, y_train, y_test = train_test_split(X, y, test_size=0.2, random_state=42)\n",
        "\n",
        "# 1. Train the individual models: Random Forest and Logistic Regression\n",
        "rf_classifier = RandomForestClassifier(n_estimators=100, random_state=42)\n",
        "log_reg_classifier = LogisticRegression(max_iter=1000, random_state=42)\n",
        "\n",
        "# 2. Train a Stacking Classifier with Random Forest and Logistic Regression as base models\n",
        "stacking_classifier = StackingClassifier(\n",
        "    estimators=[('rf', rf_classifier), ('lr', log_reg_classifier)],\n",
        "    final_estimator=LogisticRegression(),  # Meta-classifier to combine the base models\n",
        "    cv=5\n",
        ")\n",
        "\n",
        "# Train the Stacking Classifier\n",
        "stacking_classifier.fit(X_train, y_train)\n",
        "\n",
        "# 3. Make predictions and evaluate performance\n",
        "y_pred_stack = stacking_classifier.predict(X_test)\n",
        "y_pred_rf = rf_classifier.fit(X_train, y_train).predict(X_test)\n",
        "y_pred_lr = log_reg_classifier.fit(X_train, y_train).predict(X_test)\n",
        "\n",
        "# 4. Compute accuracy for each model\n",
        "accuracy_stack = accuracy_score(y_test, y_pred_stack)\n",
        "accuracy_rf = accuracy_score(y_test, y_pred_rf)\n",
        "accuracy_lr = accuracy_score(y_test, y_pred_lr)\n",
        "\n",
        "# Print the accuracy of each model\n",
        "print(f\"Accuracy of Stacking Classifier: {accuracy_stack:.4f}\")\n",
        "print(f\"Accuracy of Random Forest Classifier: {accuracy_rf:.4f}\")\n",
        "print(f\"Accuracy of Logistic Regression Classifier: {accuracy_lr:.4f}\")"
      ],
      "metadata": {
        "colab": {
          "base_uri": "https://localhost:8080/"
        },
        "id": "7zN68y2W-RQR",
        "outputId": "b3140167-54b4-4673-c722-ec5d55d67210"
      },
      "execution_count": 35,
      "outputs": [
        {
          "output_type": "stream",
          "name": "stderr",
          "text": [
            "/usr/local/lib/python3.11/dist-packages/sklearn/linear_model/_logistic.py:465: ConvergenceWarning: lbfgs failed to converge (status=1):\n",
            "STOP: TOTAL NO. of ITERATIONS REACHED LIMIT.\n",
            "\n",
            "Increase the number of iterations (max_iter) or scale the data as shown in:\n",
            "    https://scikit-learn.org/stable/modules/preprocessing.html\n",
            "Please also refer to the documentation for alternative solver options:\n",
            "    https://scikit-learn.org/stable/modules/linear_model.html#logistic-regression\n",
            "  n_iter_i = _check_optimize_result(\n",
            "/usr/local/lib/python3.11/dist-packages/sklearn/linear_model/_logistic.py:465: ConvergenceWarning: lbfgs failed to converge (status=1):\n",
            "STOP: TOTAL NO. of ITERATIONS REACHED LIMIT.\n",
            "\n",
            "Increase the number of iterations (max_iter) or scale the data as shown in:\n",
            "    https://scikit-learn.org/stable/modules/preprocessing.html\n",
            "Please also refer to the documentation for alternative solver options:\n",
            "    https://scikit-learn.org/stable/modules/linear_model.html#logistic-regression\n",
            "  n_iter_i = _check_optimize_result(\n",
            "/usr/local/lib/python3.11/dist-packages/sklearn/linear_model/_logistic.py:465: ConvergenceWarning: lbfgs failed to converge (status=1):\n",
            "STOP: TOTAL NO. of ITERATIONS REACHED LIMIT.\n",
            "\n",
            "Increase the number of iterations (max_iter) or scale the data as shown in:\n",
            "    https://scikit-learn.org/stable/modules/preprocessing.html\n",
            "Please also refer to the documentation for alternative solver options:\n",
            "    https://scikit-learn.org/stable/modules/linear_model.html#logistic-regression\n",
            "  n_iter_i = _check_optimize_result(\n",
            "/usr/local/lib/python3.11/dist-packages/sklearn/linear_model/_logistic.py:465: ConvergenceWarning: lbfgs failed to converge (status=1):\n",
            "STOP: TOTAL NO. of ITERATIONS REACHED LIMIT.\n",
            "\n",
            "Increase the number of iterations (max_iter) or scale the data as shown in:\n",
            "    https://scikit-learn.org/stable/modules/preprocessing.html\n",
            "Please also refer to the documentation for alternative solver options:\n",
            "    https://scikit-learn.org/stable/modules/linear_model.html#logistic-regression\n",
            "  n_iter_i = _check_optimize_result(\n",
            "/usr/local/lib/python3.11/dist-packages/sklearn/linear_model/_logistic.py:465: ConvergenceWarning: lbfgs failed to converge (status=1):\n",
            "STOP: TOTAL NO. of ITERATIONS REACHED LIMIT.\n",
            "\n",
            "Increase the number of iterations (max_iter) or scale the data as shown in:\n",
            "    https://scikit-learn.org/stable/modules/preprocessing.html\n",
            "Please also refer to the documentation for alternative solver options:\n",
            "    https://scikit-learn.org/stable/modules/linear_model.html#logistic-regression\n",
            "  n_iter_i = _check_optimize_result(\n",
            "/usr/local/lib/python3.11/dist-packages/sklearn/linear_model/_logistic.py:465: ConvergenceWarning: lbfgs failed to converge (status=1):\n",
            "STOP: TOTAL NO. of ITERATIONS REACHED LIMIT.\n",
            "\n",
            "Increase the number of iterations (max_iter) or scale the data as shown in:\n",
            "    https://scikit-learn.org/stable/modules/preprocessing.html\n",
            "Please also refer to the documentation for alternative solver options:\n",
            "    https://scikit-learn.org/stable/modules/linear_model.html#logistic-regression\n",
            "  n_iter_i = _check_optimize_result(\n"
          ]
        },
        {
          "output_type": "stream",
          "name": "stdout",
          "text": [
            "Accuracy of Stacking Classifier: 0.9649\n",
            "Accuracy of Random Forest Classifier: 0.9649\n",
            "Accuracy of Logistic Regression Classifier: 0.9561\n"
          ]
        },
        {
          "output_type": "stream",
          "name": "stderr",
          "text": [
            "/usr/local/lib/python3.11/dist-packages/sklearn/linear_model/_logistic.py:465: ConvergenceWarning: lbfgs failed to converge (status=1):\n",
            "STOP: TOTAL NO. of ITERATIONS REACHED LIMIT.\n",
            "\n",
            "Increase the number of iterations (max_iter) or scale the data as shown in:\n",
            "    https://scikit-learn.org/stable/modules/preprocessing.html\n",
            "Please also refer to the documentation for alternative solver options:\n",
            "    https://scikit-learn.org/stable/modules/linear_model.html#logistic-regression\n",
            "  n_iter_i = _check_optimize_result(\n"
          ]
        }
      ]
    },
    {
      "cell_type": "code",
      "source": [
        "# Q 45:  Train a Bagging Regressor with different levels of bootstrap samples and compare performance.\n",
        "import numpy as np\n",
        "import matplotlib.pyplot as plt\n",
        "from sklearn.datasets import fetch_california_housing\n",
        "from sklearn.model_selection import train_test_split\n",
        "from sklearn.ensemble import BaggingRegressor\n",
        "from sklearn.tree import DecisionTreeRegressor\n",
        "from sklearn.metrics import mean_squared_error, r2_score\n",
        "\n",
        "# Load the California Housing dataset (regression problem)\n",
        "data = fetch_california_housing()\n",
        "X, y = data.data, data.target\n",
        "\n",
        "# Split the dataset into training and testing sets (80% train, 20% test)\n",
        "X_train, X_test, y_train, y_test = train_test_split(X, y, test_size=0.2, random_state=42)\n",
        "\n",
        "# Initialize variables to store results\n",
        "bootstrap_samples_list = [0.5, 0.7, 1.0]  # Different bootstrap sample sizes\n",
        "mse_scores = []  # To store MSE scores\n",
        "r2_scores = []   # To store R² scores\n",
        "\n",
        "# Train the Bagging Regressor with different bootstrap sample sizes\n",
        "for max_samples in bootstrap_samples_list:\n",
        "    # Create a Bagging Regressor with Decision Tree as the base estimator\n",
        "    bagging_regressor = BaggingRegressor(\n",
        "        estimator=DecisionTreeRegressor(random_state=42),  # Base estimator\n",
        "        n_estimators=50,  # Number of base estimators\n",
        "        max_samples=max_samples,  # Fraction of samples to use for each base estimator\n",
        "        random_state=42\n",
        "    )\n",
        "\n",
        "    # Train the model\n",
        "    bagging_regressor.fit(X_train, y_train)\n",
        "\n",
        "    # Predict on the test set\n",
        "    y_pred = bagging_regressor.predict(X_test)\n",
        "\n",
        "    # Calculate the Mean Squared Error and R² score\n",
        "    mse = mean_squared_error(y_test, y_pred)\n",
        "    r2 = r2_score(y_test, y_pred)\n",
        "\n",
        "    # Store the results\n",
        "    mse_scores.append(mse)\n",
        "    r2_scores.append(r2)\n",
        "\n",
        "# Plot the comparison of performance\n",
        "plt.figure(figsize=(10, 6))\n",
        "\n",
        "# Plot MSE\n",
        "plt.subplot(1, 2, 1)\n",
        "plt.plot(bootstrap_samples_list, mse_scores, marker='o', color='b', linestyle='-', label='MSE')\n",
        "plt.xlabel('Bootstrap Sample Size')\n",
        "plt.ylabel('Mean Squared Error')\n",
        "plt.title('MSE vs Bootstrap Sample Size')\n",
        "plt.grid(True)\n",
        "\n",
        "# Plot R² scores\n",
        "plt.subplot(1, 2, 2)\n",
        "plt.plot(bootstrap_samples_list, r2_scores, marker='o', color='g', linestyle='-', label='R²')\n",
        "plt.xlabel('Bootstrap Sample Size')\n",
        "plt.ylabel('R² Score')\n",
        "plt.title('R² vs Bootstrap Sample Size')\n",
        "plt.grid(True)\n",
        "\n",
        "plt.tight_layout()\n",
        "plt.show()\n",
        "\n",
        "# Print the results\n",
        "for max_samples, mse, r2 in zip(bootstrap_samples_list, mse_scores, r2_scores):\n",
        "    print(f\"Bootstrap Sample Size: {max_samples:.2f}\")\n",
        "    print(f\"Mean Squared Error: {mse:.4f}\")\n",
        "    print(f\"R² Score: {r2:.4f}\\n\")\n"
      ],
      "metadata": {
        "colab": {
          "base_uri": "https://localhost:8080/",
          "height": 815
        },
        "id": "pujDYmQp-aXK",
        "outputId": "7ffa5e30-e689-4260-a751-1d1a65daee14"
      },
      "execution_count": 36,
      "outputs": [
        {
          "output_type": "display_data",
          "data": {
            "text/plain": [
              "<Figure size 1000x600 with 2 Axes>"
            ],
            "image/png": "[encoded data removed]"
          },
          "metadata": {}
        },
        {
          "output_type": "stream",
          "name": "stdout",
          "text": [
            "Bootstrap Sample Size: 0.50\n",
            "Mean Squared Error: 0.2664\n",
            "R² Score: 0.7967\n",
            "\n",
            "Bootstrap Sample Size: 0.70\n",
            "Mean Squared Error: 0.2638\n",
            "R² Score: 0.7987\n",
            "\n",
            "Bootstrap Sample Size: 1.00\n",
            "Mean Squared Error: 0.2573\n",
            "R² Score: 0.8036\n",
            "\n"
          ]
        }
      ]
    },
    {
      "cell_type": "markdown",
      "source": [],
      "metadata": {
        "id": "cxiL55U1wJA2"
      }
    }
  ]
}